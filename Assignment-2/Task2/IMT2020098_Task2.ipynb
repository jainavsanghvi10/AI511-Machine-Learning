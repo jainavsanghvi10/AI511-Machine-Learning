{
 "cells": [
  {
   "cell_type": "code",
   "execution_count": 1,
   "metadata": {},
   "outputs": [
    {
     "name": "stdout",
     "output_type": "stream",
     "text": [
      "Total Accuracy=  82.3902\n"
     ]
    }
   ],
   "source": [
    "STUDENT_ROLLNO = \"IMT2020098\" #yourRollNumberHere\n",
    "STUDENT_NAME = \"Jainav Sangvhi\" #yourNameHere\n",
    "#@PROTECTED_1\n",
    "##DO NOT MODIFY THE BELOW CODE. NO OTHER IMPORTS ALLOWED. NO OTHER FILE LOADING OR SAVING ALLOWED.\n",
    "from torch import Tensor\n",
    "import torch.nn as nn \n",
    "import torch.optim as optim \n",
    "import torchmetrics\n",
    "import sklearn.preprocessing as preprocessing\n",
    "import sklearn.model_selection as model_selection \n",
    "import torch.utils.data as data \n",
    "from torch.utils.data import TensorDataset, DataLoader\n",
    "import numpy as np \n",
    "import torch\n",
    "X_train = np.load(\"X_train.npy\")\n",
    "y_train = np.load(\"y_train.npy\")\n",
    "X_test = np.load(\"X_test.npy\")\n",
    "submission = np.load(\"sample_submission.npy\")\n",
    "#@PROTECTED_1\n",
    "y_test = np.load(\"y_test.npy\")\n",
    "\n",
    "def OneHEncoding(y):\n",
    "    temp = np.zeros((y.shape[0], 10))\n",
    "    for i in range(y.shape[0]):\n",
    "        temp[i][int(y[i])] = 1 \n",
    "    temp = torch.from_numpy(temp.astype(np.float32))\n",
    "    return temp\n",
    "\n",
    "def Normalization(X):\n",
    "  X = X/255\n",
    "  return X\n",
    "\n",
    "\n",
    "def calc_cost(y_act, y_pred):\n",
    "    e = y_act - y_pred\n",
    "    loss = np.mean(e**2)\n",
    "    return loss\n",
    "\n",
    "def train(X, y):\n",
    "  Bsize=64\n",
    "  costFunction = nn.MSELoss()\n",
    "  opt = optim.SGD(model.parameters(), lr=0.01)\n",
    "  costHistory = []\n",
    "  for i in range(5100):\n",
    "    s = i*Bsize\n",
    "    e = (i+1)*Bsize\n",
    "    Xn = X[s:e]\n",
    "    yn = y[s:e]\n",
    "    for (x, y) in zip(Xn, yn):\n",
    "      opt.zero_grad()\n",
    "      y_pred = model(x)\n",
    "      loss = costFunction(y_pred, y)\n",
    "      costHistory.append(loss.item())\n",
    "      loss.backward()\n",
    "      opt.step()\n",
    "\n",
    "def test(X,y):\n",
    "  with torch.no_grad():\n",
    "    res = model(X)\n",
    "  submission = res.argmax(axis=1).numpy()\n",
    "  return 100- calc_cost(y, submission)\n",
    "\n",
    "input_nuerons = X_train.shape[1]\n",
    "hidden_neurons = 256\n",
    "output_neurons = 10\n",
    "\n",
    "X_train = torch.from_numpy(X_train.astype(np.float32))\n",
    "y_train = torch.from_numpy(y_train.astype(np.float32))\n",
    "X_test = torch.from_numpy(X_test.astype(np.float32))\n",
    "\n",
    "model = nn.Sequential(nn.Linear(input_nuerons, hidden_neurons), nn.Tanh(), nn.Linear(hidden_neurons, output_neurons), nn.Tanh())\n",
    "\n",
    "X_train = Normalization(X_train)\n",
    "y_train = OneHEncoding(y_train)\n",
    "X_test = Normalization(X_test)\n",
    "\n",
    "train(X_train, y_train)\n",
    "print(\"Total Accuracy= \", test(X_test,y_test))\n",
    "#@PROTECTED_2\n",
    "np.save(\"{}__{}\".format(STUDENT_ROLLNO,STUDENT_NAME),submission)\n",
    "#@PROTECTED_2"
   ]
  }
 ],
 "metadata": {
  "kernelspec": {
   "display_name": "base",
   "language": "python",
   "name": "python3"
  },
  "language_info": {
   "codemirror_mode": {
    "name": "ipython",
    "version": 3
   },
   "file_extension": ".py",
   "mimetype": "text/x-python",
   "name": "python",
   "nbconvert_exporter": "python",
   "pygments_lexer": "ipython3",
   "version": "3.9.12"
  },
  "orig_nbformat": 4,
  "vscode": {
   "interpreter": {
    "hash": "0510e417343fc4d8d12d2f40f98225270adde0ebd9f84ae12e6dac5d62d237ee"
   }
  }
 },
 "nbformat": 4,
 "nbformat_minor": 2
}
