{
  "cells": [
    {
      "cell_type": "code",
      "execution_count": 145,
      "metadata": {
        "id": "w6BqM45QmafH"
      },
      "outputs": [],
      "source": [
        "#importing required libraries\n",
        "import numpy as np\n",
        "import pandas as pd\n",
        "import matplotlib.pyplot as plt\n",
        "import seaborn as sns\n"
      ]
    },
    {
      "cell_type": "code",
      "execution_count": 146,
      "metadata": {
        "id": "kPaAw-ucmafI"
      },
      "outputs": [],
      "source": [
        "df = pd.read_csv(\"./CO2_Emissions_Canada.csv\")"
      ]
    },
    {
      "cell_type": "markdown",
      "metadata": {
        "id": "KdAkpPMjmafI"
      },
      "source": [
        "# **Pre-Procecssing**"
      ]
    },
    {
      "cell_type": "code",
      "execution_count": 147,
      "metadata": {
        "colab": {
          "base_uri": "https://localhost:8080/",
          "height": 320
        },
        "id": "GAcauxHPmafJ",
        "outputId": "12dba6e1-232b-4a7c-d5c2-f60184a9e467"
      },
      "outputs": [
        {
          "data": {
            "text/html": [
              "<div>\n",
              "<style scoped>\n",
              "    .dataframe tbody tr th:only-of-type {\n",
              "        vertical-align: middle;\n",
              "    }\n",
              "\n",
              "    .dataframe tbody tr th {\n",
              "        vertical-align: top;\n",
              "    }\n",
              "\n",
              "    .dataframe thead th {\n",
              "        text-align: right;\n",
              "    }\n",
              "</style>\n",
              "<table border=\"1\" class=\"dataframe\">\n",
              "  <thead>\n",
              "    <tr style=\"text-align: right;\">\n",
              "      <th></th>\n",
              "      <th>Make</th>\n",
              "      <th>Model</th>\n",
              "      <th>Vehicle Class</th>\n",
              "      <th>Engine Size(L)</th>\n",
              "      <th>Cylinders</th>\n",
              "      <th>Transmission</th>\n",
              "      <th>Fuel Type</th>\n",
              "      <th>Fuel Consumption City (L/100 km)</th>\n",
              "      <th>Fuel Consumption Hwy (L/100 km)</th>\n",
              "      <th>Fuel Consumption Comb (L/100 km)</th>\n",
              "      <th>Fuel Consumption Comb (mpg)</th>\n",
              "      <th>CO2 Emissions(g/km)</th>\n",
              "    </tr>\n",
              "  </thead>\n",
              "  <tbody>\n",
              "    <tr>\n",
              "      <th>0</th>\n",
              "      <td>ACURA</td>\n",
              "      <td>ILX</td>\n",
              "      <td>COMPACT</td>\n",
              "      <td>2.0</td>\n",
              "      <td>4</td>\n",
              "      <td>AS5</td>\n",
              "      <td>Z</td>\n",
              "      <td>9.9</td>\n",
              "      <td>6.7</td>\n",
              "      <td>8.5</td>\n",
              "      <td>33</td>\n",
              "      <td>196</td>\n",
              "    </tr>\n",
              "    <tr>\n",
              "      <th>1</th>\n",
              "      <td>ACURA</td>\n",
              "      <td>ILX</td>\n",
              "      <td>COMPACT</td>\n",
              "      <td>2.4</td>\n",
              "      <td>4</td>\n",
              "      <td>M6</td>\n",
              "      <td>Z</td>\n",
              "      <td>11.2</td>\n",
              "      <td>7.7</td>\n",
              "      <td>9.6</td>\n",
              "      <td>29</td>\n",
              "      <td>221</td>\n",
              "    </tr>\n",
              "    <tr>\n",
              "      <th>2</th>\n",
              "      <td>ACURA</td>\n",
              "      <td>ILX HYBRID</td>\n",
              "      <td>COMPACT</td>\n",
              "      <td>1.5</td>\n",
              "      <td>4</td>\n",
              "      <td>AV7</td>\n",
              "      <td>Z</td>\n",
              "      <td>6.0</td>\n",
              "      <td>5.8</td>\n",
              "      <td>5.9</td>\n",
              "      <td>48</td>\n",
              "      <td>136</td>\n",
              "    </tr>\n",
              "    <tr>\n",
              "      <th>3</th>\n",
              "      <td>ACURA</td>\n",
              "      <td>MDX 4WD</td>\n",
              "      <td>SUV - SMALL</td>\n",
              "      <td>3.5</td>\n",
              "      <td>6</td>\n",
              "      <td>AS6</td>\n",
              "      <td>Z</td>\n",
              "      <td>12.7</td>\n",
              "      <td>9.1</td>\n",
              "      <td>11.1</td>\n",
              "      <td>25</td>\n",
              "      <td>255</td>\n",
              "    </tr>\n",
              "    <tr>\n",
              "      <th>4</th>\n",
              "      <td>ACURA</td>\n",
              "      <td>RDX AWD</td>\n",
              "      <td>SUV - SMALL</td>\n",
              "      <td>3.5</td>\n",
              "      <td>6</td>\n",
              "      <td>AS6</td>\n",
              "      <td>Z</td>\n",
              "      <td>12.1</td>\n",
              "      <td>8.7</td>\n",
              "      <td>10.6</td>\n",
              "      <td>27</td>\n",
              "      <td>244</td>\n",
              "    </tr>\n",
              "  </tbody>\n",
              "</table>\n",
              "</div>"
            ],
            "text/plain": [
              "    Make       Model Vehicle Class  Engine Size(L)  Cylinders Transmission  \\\n",
              "0  ACURA         ILX       COMPACT             2.0          4          AS5   \n",
              "1  ACURA         ILX       COMPACT             2.4          4           M6   \n",
              "2  ACURA  ILX HYBRID       COMPACT             1.5          4          AV7   \n",
              "3  ACURA     MDX 4WD   SUV - SMALL             3.5          6          AS6   \n",
              "4  ACURA     RDX AWD   SUV - SMALL             3.5          6          AS6   \n",
              "\n",
              "  Fuel Type  Fuel Consumption City (L/100 km)  \\\n",
              "0         Z                               9.9   \n",
              "1         Z                              11.2   \n",
              "2         Z                               6.0   \n",
              "3         Z                              12.7   \n",
              "4         Z                              12.1   \n",
              "\n",
              "   Fuel Consumption Hwy (L/100 km)  Fuel Consumption Comb (L/100 km)  \\\n",
              "0                              6.7                               8.5   \n",
              "1                              7.7                               9.6   \n",
              "2                              5.8                               5.9   \n",
              "3                              9.1                              11.1   \n",
              "4                              8.7                              10.6   \n",
              "\n",
              "   Fuel Consumption Comb (mpg)  CO2 Emissions(g/km)  \n",
              "0                           33                  196  \n",
              "1                           29                  221  \n",
              "2                           48                  136  \n",
              "3                           25                  255  \n",
              "4                           27                  244  "
            ]
          },
          "execution_count": 147,
          "metadata": {},
          "output_type": "execute_result"
        }
      ],
      "source": [
        "df.head()"
      ]
    },
    {
      "cell_type": "code",
      "execution_count": 148,
      "metadata": {
        "colab": {
          "base_uri": "https://localhost:8080/",
          "height": 362
        },
        "id": "ePkvolGzmafK",
        "outputId": "1d2a7325-202f-4b71-f79e-3dd9ce8a6e7e"
      },
      "outputs": [
        {
          "data": {
            "text/html": [
              "<div>\n",
              "<style scoped>\n",
              "    .dataframe tbody tr th:only-of-type {\n",
              "        vertical-align: middle;\n",
              "    }\n",
              "\n",
              "    .dataframe tbody tr th {\n",
              "        vertical-align: top;\n",
              "    }\n",
              "\n",
              "    .dataframe thead th {\n",
              "        text-align: right;\n",
              "    }\n",
              "</style>\n",
              "<table border=\"1\" class=\"dataframe\">\n",
              "  <thead>\n",
              "    <tr style=\"text-align: right;\">\n",
              "      <th></th>\n",
              "      <th>Engine Size(L)</th>\n",
              "      <th>Cylinders</th>\n",
              "      <th>Fuel Consumption City (L/100 km)</th>\n",
              "      <th>Fuel Consumption Hwy (L/100 km)</th>\n",
              "      <th>Fuel Consumption Comb (L/100 km)</th>\n",
              "      <th>Fuel Consumption Comb (mpg)</th>\n",
              "      <th>CO2 Emissions(g/km)</th>\n",
              "    </tr>\n",
              "  </thead>\n",
              "  <tbody>\n",
              "    <tr>\n",
              "      <th>count</th>\n",
              "      <td>7385.000000</td>\n",
              "      <td>7385.000000</td>\n",
              "      <td>7385.000000</td>\n",
              "      <td>7385.000000</td>\n",
              "      <td>7385.000000</td>\n",
              "      <td>7385.000000</td>\n",
              "      <td>7385.000000</td>\n",
              "    </tr>\n",
              "    <tr>\n",
              "      <th>mean</th>\n",
              "      <td>3.160068</td>\n",
              "      <td>5.615030</td>\n",
              "      <td>12.556534</td>\n",
              "      <td>9.041706</td>\n",
              "      <td>10.975071</td>\n",
              "      <td>27.481652</td>\n",
              "      <td>250.584699</td>\n",
              "    </tr>\n",
              "    <tr>\n",
              "      <th>std</th>\n",
              "      <td>1.354170</td>\n",
              "      <td>1.828307</td>\n",
              "      <td>3.500274</td>\n",
              "      <td>2.224456</td>\n",
              "      <td>2.892506</td>\n",
              "      <td>7.231879</td>\n",
              "      <td>58.512679</td>\n",
              "    </tr>\n",
              "    <tr>\n",
              "      <th>min</th>\n",
              "      <td>0.900000</td>\n",
              "      <td>3.000000</td>\n",
              "      <td>4.200000</td>\n",
              "      <td>4.000000</td>\n",
              "      <td>4.100000</td>\n",
              "      <td>11.000000</td>\n",
              "      <td>96.000000</td>\n",
              "    </tr>\n",
              "    <tr>\n",
              "      <th>25%</th>\n",
              "      <td>2.000000</td>\n",
              "      <td>4.000000</td>\n",
              "      <td>10.100000</td>\n",
              "      <td>7.500000</td>\n",
              "      <td>8.900000</td>\n",
              "      <td>22.000000</td>\n",
              "      <td>208.000000</td>\n",
              "    </tr>\n",
              "    <tr>\n",
              "      <th>50%</th>\n",
              "      <td>3.000000</td>\n",
              "      <td>6.000000</td>\n",
              "      <td>12.100000</td>\n",
              "      <td>8.700000</td>\n",
              "      <td>10.600000</td>\n",
              "      <td>27.000000</td>\n",
              "      <td>246.000000</td>\n",
              "    </tr>\n",
              "    <tr>\n",
              "      <th>75%</th>\n",
              "      <td>3.700000</td>\n",
              "      <td>6.000000</td>\n",
              "      <td>14.600000</td>\n",
              "      <td>10.200000</td>\n",
              "      <td>12.600000</td>\n",
              "      <td>32.000000</td>\n",
              "      <td>288.000000</td>\n",
              "    </tr>\n",
              "    <tr>\n",
              "      <th>max</th>\n",
              "      <td>8.400000</td>\n",
              "      <td>16.000000</td>\n",
              "      <td>30.600000</td>\n",
              "      <td>20.600000</td>\n",
              "      <td>26.100000</td>\n",
              "      <td>69.000000</td>\n",
              "      <td>522.000000</td>\n",
              "    </tr>\n",
              "  </tbody>\n",
              "</table>\n",
              "</div>"
            ],
            "text/plain": [
              "       Engine Size(L)    Cylinders  Fuel Consumption City (L/100 km)  \\\n",
              "count     7385.000000  7385.000000                       7385.000000   \n",
              "mean         3.160068     5.615030                         12.556534   \n",
              "std          1.354170     1.828307                          3.500274   \n",
              "min          0.900000     3.000000                          4.200000   \n",
              "25%          2.000000     4.000000                         10.100000   \n",
              "50%          3.000000     6.000000                         12.100000   \n",
              "75%          3.700000     6.000000                         14.600000   \n",
              "max          8.400000    16.000000                         30.600000   \n",
              "\n",
              "       Fuel Consumption Hwy (L/100 km)  Fuel Consumption Comb (L/100 km)  \\\n",
              "count                      7385.000000                       7385.000000   \n",
              "mean                          9.041706                         10.975071   \n",
              "std                           2.224456                          2.892506   \n",
              "min                           4.000000                          4.100000   \n",
              "25%                           7.500000                          8.900000   \n",
              "50%                           8.700000                         10.600000   \n",
              "75%                          10.200000                         12.600000   \n",
              "max                          20.600000                         26.100000   \n",
              "\n",
              "       Fuel Consumption Comb (mpg)  CO2 Emissions(g/km)  \n",
              "count                  7385.000000          7385.000000  \n",
              "mean                     27.481652           250.584699  \n",
              "std                       7.231879            58.512679  \n",
              "min                      11.000000            96.000000  \n",
              "25%                      22.000000           208.000000  \n",
              "50%                      27.000000           246.000000  \n",
              "75%                      32.000000           288.000000  \n",
              "max                      69.000000           522.000000  "
            ]
          },
          "execution_count": 148,
          "metadata": {},
          "output_type": "execute_result"
        }
      ],
      "source": [
        "df.describe()"
      ]
    },
    {
      "cell_type": "code",
      "execution_count": 167,
      "metadata": {
        "colab": {
          "base_uri": "https://localhost:8080/",
          "height": 400
        },
        "id": "bjsdtGjymafK",
        "outputId": "bfd2508d-c84d-49f2-b297-6372e64253f3"
      },
      "outputs": [
        {
          "data": {
            "text/html": [
              "<div>\n",
              "<style scoped>\n",
              "    .dataframe tbody tr th:only-of-type {\n",
              "        vertical-align: middle;\n",
              "    }\n",
              "\n",
              "    .dataframe tbody tr th {\n",
              "        vertical-align: top;\n",
              "    }\n",
              "\n",
              "    .dataframe thead th {\n",
              "        text-align: right;\n",
              "    }\n",
              "</style>\n",
              "<table border=\"1\" class=\"dataframe\">\n",
              "  <thead>\n",
              "    <tr style=\"text-align: right;\">\n",
              "      <th></th>\n",
              "      <th>Engine Size(L)</th>\n",
              "      <th>Cylinders</th>\n",
              "      <th>Fuel Consumption City (L/100 km)</th>\n",
              "      <th>Fuel Consumption Hwy (L/100 km)</th>\n",
              "      <th>Fuel Consumption Comb (L/100 km)</th>\n",
              "      <th>Fuel Consumption Comb (mpg)</th>\n",
              "      <th>CO2 Emissions(g/km)</th>\n",
              "      <th>Make_ACURA</th>\n",
              "      <th>Make_ALFA ROMEO</th>\n",
              "      <th>Make_ASTON MARTIN</th>\n",
              "      <th>...</th>\n",
              "      <th>Transmission_AV7</th>\n",
              "      <th>Transmission_AV8</th>\n",
              "      <th>Transmission_M5</th>\n",
              "      <th>Transmission_M6</th>\n",
              "      <th>Transmission_M7</th>\n",
              "      <th>Fuel Type_D</th>\n",
              "      <th>Fuel Type_E</th>\n",
              "      <th>Fuel Type_N</th>\n",
              "      <th>Fuel Type_X</th>\n",
              "      <th>Fuel Type_Z</th>\n",
              "    </tr>\n",
              "  </thead>\n",
              "  <tbody>\n",
              "    <tr>\n",
              "      <th>Engine Size(L)</th>\n",
              "      <td>1.000000</td>\n",
              "      <td>0.928843</td>\n",
              "      <td>0.834228</td>\n",
              "      <td>0.766817</td>\n",
              "      <td>0.820146</td>\n",
              "      <td>-0.762955</td>\n",
              "      <td>0.854802</td>\n",
              "      <td>-0.010464</td>\n",
              "      <td>-0.037958</td>\n",
              "      <td>0.121276</td>\n",
              "      <td>...</td>\n",
              "      <td>-0.082596</td>\n",
              "      <td>-0.039737</td>\n",
              "      <td>-0.159150</td>\n",
              "      <td>-0.157855</td>\n",
              "      <td>0.045681</td>\n",
              "      <td>-0.071343</td>\n",
              "      <td>0.169407</td>\n",
              "      <td>0.004050</td>\n",
              "      <td>-0.230486</td>\n",
              "      <td>0.177520</td>\n",
              "    </tr>\n",
              "    <tr>\n",
              "      <th>Cylinders</th>\n",
              "      <td>0.928843</td>\n",
              "      <td>1.000000</td>\n",
              "      <td>0.801277</td>\n",
              "      <td>0.717647</td>\n",
              "      <td>0.781099</td>\n",
              "      <td>-0.723731</td>\n",
              "      <td>0.834687</td>\n",
              "      <td>-0.017839</td>\n",
              "      <td>-0.029457</td>\n",
              "      <td>0.194156</td>\n",
              "      <td>...</td>\n",
              "      <td>-0.076762</td>\n",
              "      <td>-0.041185</td>\n",
              "      <td>-0.149106</td>\n",
              "      <td>-0.156293</td>\n",
              "      <td>0.043392</td>\n",
              "      <td>-0.058169</td>\n",
              "      <td>0.120497</td>\n",
              "      <td>0.002605</td>\n",
              "      <td>-0.303486</td>\n",
              "      <td>0.269017</td>\n",
              "    </tr>\n",
              "    <tr>\n",
              "      <th>Fuel Consumption City (L/100 km)</th>\n",
              "      <td>0.834228</td>\n",
              "      <td>0.801277</td>\n",
              "      <td>1.000000</td>\n",
              "      <td>0.950811</td>\n",
              "      <td>0.994052</td>\n",
              "      <td>-0.927640</td>\n",
              "      <td>0.918756</td>\n",
              "      <td>-0.047245</td>\n",
              "      <td>-0.020639</td>\n",
              "      <td>0.105701</td>\n",
              "      <td>...</td>\n",
              "      <td>-0.121086</td>\n",
              "      <td>-0.050655</td>\n",
              "      <td>-0.146921</td>\n",
              "      <td>-0.122021</td>\n",
              "      <td>0.015094</td>\n",
              "      <td>-0.115534</td>\n",
              "      <td>0.456065</td>\n",
              "      <td>0.009198</td>\n",
              "      <td>-0.312780</td>\n",
              "      <td>0.144863</td>\n",
              "    </tr>\n",
              "    <tr>\n",
              "      <th>Fuel Consumption Hwy (L/100 km)</th>\n",
              "      <td>0.766817</td>\n",
              "      <td>0.717647</td>\n",
              "      <td>0.950811</td>\n",
              "      <td>1.000000</td>\n",
              "      <td>0.978607</td>\n",
              "      <td>-0.891892</td>\n",
              "      <td>0.883424</td>\n",
              "      <td>-0.041026</td>\n",
              "      <td>-0.021425</td>\n",
              "      <td>0.088623</td>\n",
              "      <td>...</td>\n",
              "      <td>-0.100717</td>\n",
              "      <td>-0.025232</td>\n",
              "      <td>-0.130360</td>\n",
              "      <td>-0.153766</td>\n",
              "      <td>-0.002464</td>\n",
              "      <td>-0.122725</td>\n",
              "      <td>0.488140</td>\n",
              "      <td>0.002378</td>\n",
              "      <td>-0.246896</td>\n",
              "      <td>0.066485</td>\n",
              "    </tr>\n",
              "    <tr>\n",
              "      <th>Fuel Consumption Comb (L/100 km)</th>\n",
              "      <td>0.820146</td>\n",
              "      <td>0.781099</td>\n",
              "      <td>0.994052</td>\n",
              "      <td>0.978607</td>\n",
              "      <td>1.000000</td>\n",
              "      <td>-0.925801</td>\n",
              "      <td>0.916840</td>\n",
              "      <td>-0.045520</td>\n",
              "      <td>-0.021781</td>\n",
              "      <td>0.101035</td>\n",
              "      <td>...</td>\n",
              "      <td>-0.115326</td>\n",
              "      <td>-0.042270</td>\n",
              "      <td>-0.142582</td>\n",
              "      <td>-0.134280</td>\n",
              "      <td>0.008882</td>\n",
              "      <td>-0.119154</td>\n",
              "      <td>0.472362</td>\n",
              "      <td>0.007203</td>\n",
              "      <td>-0.293165</td>\n",
              "      <td>0.118945</td>\n",
              "    </tr>\n",
              "    <tr>\n",
              "      <th>...</th>\n",
              "      <td>...</td>\n",
              "      <td>...</td>\n",
              "      <td>...</td>\n",
              "      <td>...</td>\n",
              "      <td>...</td>\n",
              "      <td>...</td>\n",
              "      <td>...</td>\n",
              "      <td>...</td>\n",
              "      <td>...</td>\n",
              "      <td>...</td>\n",
              "      <td>...</td>\n",
              "      <td>...</td>\n",
              "      <td>...</td>\n",
              "      <td>...</td>\n",
              "      <td>...</td>\n",
              "      <td>...</td>\n",
              "      <td>...</td>\n",
              "      <td>...</td>\n",
              "      <td>...</td>\n",
              "      <td>...</td>\n",
              "      <td>...</td>\n",
              "    </tr>\n",
              "    <tr>\n",
              "      <th>Fuel Type_D</th>\n",
              "      <td>-0.071343</td>\n",
              "      <td>-0.058169</td>\n",
              "      <td>-0.115534</td>\n",
              "      <td>-0.122725</td>\n",
              "      <td>-0.119154</td>\n",
              "      <td>0.126247</td>\n",
              "      <td>-0.041566</td>\n",
              "      <td>-0.014004</td>\n",
              "      <td>-0.008526</td>\n",
              "      <td>-0.012235</td>\n",
              "      <td>...</td>\n",
              "      <td>-0.018871</td>\n",
              "      <td>-0.011419</td>\n",
              "      <td>-0.025659</td>\n",
              "      <td>-0.022722</td>\n",
              "      <td>-0.017357</td>\n",
              "      <td>1.000000</td>\n",
              "      <td>-0.036448</td>\n",
              "      <td>-0.001953</td>\n",
              "      <td>-0.149845</td>\n",
              "      <td>-0.137250</td>\n",
              "    </tr>\n",
              "    <tr>\n",
              "      <th>Fuel Type_E</th>\n",
              "      <td>0.169407</td>\n",
              "      <td>0.120497</td>\n",
              "      <td>0.456065</td>\n",
              "      <td>0.488140</td>\n",
              "      <td>0.472362</td>\n",
              "      <td>-0.330001</td>\n",
              "      <td>0.098858</td>\n",
              "      <td>-0.021303</td>\n",
              "      <td>-0.012969</td>\n",
              "      <td>-0.018611</td>\n",
              "      <td>...</td>\n",
              "      <td>-0.028706</td>\n",
              "      <td>-0.017370</td>\n",
              "      <td>-0.021341</td>\n",
              "      <td>-0.088202</td>\n",
              "      <td>-0.026402</td>\n",
              "      <td>-0.036448</td>\n",
              "      <td>1.000000</td>\n",
              "      <td>-0.002971</td>\n",
              "      <td>-0.227938</td>\n",
              "      <td>-0.208779</td>\n",
              "    </tr>\n",
              "    <tr>\n",
              "      <th>Fuel Type_N</th>\n",
              "      <td>0.004050</td>\n",
              "      <td>0.002605</td>\n",
              "      <td>0.009198</td>\n",
              "      <td>0.002378</td>\n",
              "      <td>0.007203</td>\n",
              "      <td>-0.009424</td>\n",
              "      <td>-0.008121</td>\n",
              "      <td>-0.001142</td>\n",
              "      <td>-0.000695</td>\n",
              "      <td>-0.000997</td>\n",
              "      <td>...</td>\n",
              "      <td>-0.001538</td>\n",
              "      <td>-0.000931</td>\n",
              "      <td>-0.002092</td>\n",
              "      <td>-0.004726</td>\n",
              "      <td>-0.001415</td>\n",
              "      <td>-0.001953</td>\n",
              "      <td>-0.002971</td>\n",
              "      <td>1.000000</td>\n",
              "      <td>-0.012215</td>\n",
              "      <td>-0.011188</td>\n",
              "    </tr>\n",
              "    <tr>\n",
              "      <th>Fuel Type_X</th>\n",
              "      <td>-0.230486</td>\n",
              "      <td>-0.303486</td>\n",
              "      <td>-0.312780</td>\n",
              "      <td>-0.246896</td>\n",
              "      <td>-0.293165</td>\n",
              "      <td>0.300475</td>\n",
              "      <td>-0.247861</td>\n",
              "      <td>-0.087579</td>\n",
              "      <td>-0.053318</td>\n",
              "      <td>-0.076512</td>\n",
              "      <td>...</td>\n",
              "      <td>0.059646</td>\n",
              "      <td>-0.023653</td>\n",
              "      <td>0.155443</td>\n",
              "      <td>-0.018375</td>\n",
              "      <td>-0.108543</td>\n",
              "      <td>-0.149845</td>\n",
              "      <td>-0.227938</td>\n",
              "      <td>-0.012215</td>\n",
              "      <td>1.000000</td>\n",
              "      <td>-0.858328</td>\n",
              "    </tr>\n",
              "    <tr>\n",
              "      <th>Fuel Type_Z</th>\n",
              "      <td>0.177520</td>\n",
              "      <td>0.269017</td>\n",
              "      <td>0.144863</td>\n",
              "      <td>0.066485</td>\n",
              "      <td>0.118945</td>\n",
              "      <td>-0.192388</td>\n",
              "      <td>0.217960</td>\n",
              "      <td>0.102034</td>\n",
              "      <td>0.062119</td>\n",
              "      <td>0.089140</td>\n",
              "      <td>...</td>\n",
              "      <td>-0.041359</td>\n",
              "      <td>0.035119</td>\n",
              "      <td>-0.139028</td>\n",
              "      <td>0.065178</td>\n",
              "      <td>0.126459</td>\n",
              "      <td>-0.137250</td>\n",
              "      <td>-0.208779</td>\n",
              "      <td>-0.011188</td>\n",
              "      <td>-0.858328</td>\n",
              "      <td>1.000000</td>\n",
              "    </tr>\n",
              "  </tbody>\n",
              "</table>\n",
              "<p>97 rows × 97 columns</p>\n",
              "</div>"
            ],
            "text/plain": [
              "                                  Engine Size(L)  Cylinders  \\\n",
              "Engine Size(L)                          1.000000   0.928843   \n",
              "Cylinders                               0.928843   1.000000   \n",
              "Fuel Consumption City (L/100 km)        0.834228   0.801277   \n",
              "Fuel Consumption Hwy (L/100 km)         0.766817   0.717647   \n",
              "Fuel Consumption Comb (L/100 km)        0.820146   0.781099   \n",
              "...                                          ...        ...   \n",
              "Fuel Type_D                            -0.071343  -0.058169   \n",
              "Fuel Type_E                             0.169407   0.120497   \n",
              "Fuel Type_N                             0.004050   0.002605   \n",
              "Fuel Type_X                            -0.230486  -0.303486   \n",
              "Fuel Type_Z                             0.177520   0.269017   \n",
              "\n",
              "                                  Fuel Consumption City (L/100 km)  \\\n",
              "Engine Size(L)                                            0.834228   \n",
              "Cylinders                                                 0.801277   \n",
              "Fuel Consumption City (L/100 km)                          1.000000   \n",
              "Fuel Consumption Hwy (L/100 km)                           0.950811   \n",
              "Fuel Consumption Comb (L/100 km)                          0.994052   \n",
              "...                                                            ...   \n",
              "Fuel Type_D                                              -0.115534   \n",
              "Fuel Type_E                                               0.456065   \n",
              "Fuel Type_N                                               0.009198   \n",
              "Fuel Type_X                                              -0.312780   \n",
              "Fuel Type_Z                                               0.144863   \n",
              "\n",
              "                                  Fuel Consumption Hwy (L/100 km)  \\\n",
              "Engine Size(L)                                           0.766817   \n",
              "Cylinders                                                0.717647   \n",
              "Fuel Consumption City (L/100 km)                         0.950811   \n",
              "Fuel Consumption Hwy (L/100 km)                          1.000000   \n",
              "Fuel Consumption Comb (L/100 km)                         0.978607   \n",
              "...                                                           ...   \n",
              "Fuel Type_D                                             -0.122725   \n",
              "Fuel Type_E                                              0.488140   \n",
              "Fuel Type_N                                              0.002378   \n",
              "Fuel Type_X                                             -0.246896   \n",
              "Fuel Type_Z                                              0.066485   \n",
              "\n",
              "                                  Fuel Consumption Comb (L/100 km)  \\\n",
              "Engine Size(L)                                            0.820146   \n",
              "Cylinders                                                 0.781099   \n",
              "Fuel Consumption City (L/100 km)                          0.994052   \n",
              "Fuel Consumption Hwy (L/100 km)                           0.978607   \n",
              "Fuel Consumption Comb (L/100 km)                          1.000000   \n",
              "...                                                            ...   \n",
              "Fuel Type_D                                              -0.119154   \n",
              "Fuel Type_E                                               0.472362   \n",
              "Fuel Type_N                                               0.007203   \n",
              "Fuel Type_X                                              -0.293165   \n",
              "Fuel Type_Z                                               0.118945   \n",
              "\n",
              "                                  Fuel Consumption Comb (mpg)  \\\n",
              "Engine Size(L)                                      -0.762955   \n",
              "Cylinders                                           -0.723731   \n",
              "Fuel Consumption City (L/100 km)                    -0.927640   \n",
              "Fuel Consumption Hwy (L/100 km)                     -0.891892   \n",
              "Fuel Consumption Comb (L/100 km)                    -0.925801   \n",
              "...                                                       ...   \n",
              "Fuel Type_D                                          0.126247   \n",
              "Fuel Type_E                                         -0.330001   \n",
              "Fuel Type_N                                         -0.009424   \n",
              "Fuel Type_X                                          0.300475   \n",
              "Fuel Type_Z                                         -0.192388   \n",
              "\n",
              "                                  CO2 Emissions(g/km)  Make_ACURA  \\\n",
              "Engine Size(L)                               0.854802   -0.010464   \n",
              "Cylinders                                    0.834687   -0.017839   \n",
              "Fuel Consumption City (L/100 km)             0.918756   -0.047245   \n",
              "Fuel Consumption Hwy (L/100 km)              0.883424   -0.041026   \n",
              "Fuel Consumption Comb (L/100 km)             0.916840   -0.045520   \n",
              "...                                               ...         ...   \n",
              "Fuel Type_D                                 -0.041566   -0.014004   \n",
              "Fuel Type_E                                  0.098858   -0.021303   \n",
              "Fuel Type_N                                 -0.008121   -0.001142   \n",
              "Fuel Type_X                                 -0.247861   -0.087579   \n",
              "Fuel Type_Z                                  0.217960    0.102034   \n",
              "\n",
              "                                  Make_ALFA ROMEO  Make_ASTON MARTIN  ...  \\\n",
              "Engine Size(L)                          -0.037958           0.121276  ...   \n",
              "Cylinders                               -0.029457           0.194156  ...   \n",
              "Fuel Consumption City (L/100 km)        -0.020639           0.105701  ...   \n",
              "Fuel Consumption Hwy (L/100 km)         -0.021425           0.088623  ...   \n",
              "Fuel Consumption Comb (L/100 km)        -0.021781           0.101035  ...   \n",
              "...                                           ...                ...  ...   \n",
              "Fuel Type_D                             -0.008526          -0.012235  ...   \n",
              "Fuel Type_E                             -0.012969          -0.018611  ...   \n",
              "Fuel Type_N                             -0.000695          -0.000997  ...   \n",
              "Fuel Type_X                             -0.053318          -0.076512  ...   \n",
              "Fuel Type_Z                              0.062119           0.089140  ...   \n",
              "\n",
              "                                  Transmission_AV7  Transmission_AV8  \\\n",
              "Engine Size(L)                           -0.082596         -0.039737   \n",
              "Cylinders                                -0.076762         -0.041185   \n",
              "Fuel Consumption City (L/100 km)         -0.121086         -0.050655   \n",
              "Fuel Consumption Hwy (L/100 km)          -0.100717         -0.025232   \n",
              "Fuel Consumption Comb (L/100 km)         -0.115326         -0.042270   \n",
              "...                                            ...               ...   \n",
              "Fuel Type_D                              -0.018871         -0.011419   \n",
              "Fuel Type_E                              -0.028706         -0.017370   \n",
              "Fuel Type_N                              -0.001538         -0.000931   \n",
              "Fuel Type_X                               0.059646         -0.023653   \n",
              "Fuel Type_Z                              -0.041359          0.035119   \n",
              "\n",
              "                                  Transmission_M5  Transmission_M6  \\\n",
              "Engine Size(L)                          -0.159150        -0.157855   \n",
              "Cylinders                               -0.149106        -0.156293   \n",
              "Fuel Consumption City (L/100 km)        -0.146921        -0.122021   \n",
              "Fuel Consumption Hwy (L/100 km)         -0.130360        -0.153766   \n",
              "Fuel Consumption Comb (L/100 km)        -0.142582        -0.134280   \n",
              "...                                           ...              ...   \n",
              "Fuel Type_D                             -0.025659        -0.022722   \n",
              "Fuel Type_E                             -0.021341        -0.088202   \n",
              "Fuel Type_N                             -0.002092        -0.004726   \n",
              "Fuel Type_X                              0.155443        -0.018375   \n",
              "Fuel Type_Z                             -0.139028         0.065178   \n",
              "\n",
              "                                  Transmission_M7  Fuel Type_D  Fuel Type_E  \\\n",
              "Engine Size(L)                           0.045681    -0.071343     0.169407   \n",
              "Cylinders                                0.043392    -0.058169     0.120497   \n",
              "Fuel Consumption City (L/100 km)         0.015094    -0.115534     0.456065   \n",
              "Fuel Consumption Hwy (L/100 km)         -0.002464    -0.122725     0.488140   \n",
              "Fuel Consumption Comb (L/100 km)         0.008882    -0.119154     0.472362   \n",
              "...                                           ...          ...          ...   \n",
              "Fuel Type_D                             -0.017357     1.000000    -0.036448   \n",
              "Fuel Type_E                             -0.026402    -0.036448     1.000000   \n",
              "Fuel Type_N                             -0.001415    -0.001953    -0.002971   \n",
              "Fuel Type_X                             -0.108543    -0.149845    -0.227938   \n",
              "Fuel Type_Z                              0.126459    -0.137250    -0.208779   \n",
              "\n",
              "                                  Fuel Type_N  Fuel Type_X  Fuel Type_Z  \n",
              "Engine Size(L)                       0.004050    -0.230486     0.177520  \n",
              "Cylinders                            0.002605    -0.303486     0.269017  \n",
              "Fuel Consumption City (L/100 km)     0.009198    -0.312780     0.144863  \n",
              "Fuel Consumption Hwy (L/100 km)      0.002378    -0.246896     0.066485  \n",
              "Fuel Consumption Comb (L/100 km)     0.007203    -0.293165     0.118945  \n",
              "...                                       ...          ...          ...  \n",
              "Fuel Type_D                         -0.001953    -0.149845    -0.137250  \n",
              "Fuel Type_E                         -0.002971    -0.227938    -0.208779  \n",
              "Fuel Type_N                          1.000000    -0.012215    -0.011188  \n",
              "Fuel Type_X                         -0.012215     1.000000    -0.858328  \n",
              "Fuel Type_Z                         -0.011188    -0.858328     1.000000  \n",
              "\n",
              "[97 rows x 97 columns]"
            ]
          },
          "execution_count": 167,
          "metadata": {},
          "output_type": "execute_result"
        }
      ],
      "source": [
        "df.corr()"
      ]
    },
    {
      "cell_type": "markdown",
      "metadata": {
        "id": "fkkfIJKZmafK"
      },
      "source": [
        "## Checking and Deleting duplicate rows:"
      ]
    },
    {
      "cell_type": "code",
      "execution_count": 150,
      "metadata": {
        "colab": {
          "base_uri": "https://localhost:8080/"
        },
        "id": "7q1baf_amafK",
        "outputId": "f8734815-f877-4553-e304-c56a6e93b976"
      },
      "outputs": [
        {
          "data": {
            "text/plain": [
              "Make                                0\n",
              "Model                               0\n",
              "Vehicle Class                       0\n",
              "Engine Size(L)                      0\n",
              "Cylinders                           0\n",
              "Transmission                        0\n",
              "Fuel Type                           0\n",
              "Fuel Consumption City (L/100 km)    0\n",
              "Fuel Consumption Hwy (L/100 km)     0\n",
              "Fuel Consumption Comb (L/100 km)    0\n",
              "Fuel Consumption Comb (mpg)         0\n",
              "CO2 Emissions(g/km)                 0\n",
              "dtype: int64"
            ]
          },
          "execution_count": 150,
          "metadata": {},
          "output_type": "execute_result"
        }
      ],
      "source": [
        "df.isna().sum()"
      ]
    },
    {
      "cell_type": "code",
      "execution_count": 151,
      "metadata": {
        "colab": {
          "base_uri": "https://localhost:8080/"
        },
        "id": "XCwSw-eWmafL",
        "outputId": "59b09e40-cac5-4482-9905-9471389efea9"
      },
      "outputs": [
        {
          "name": "stdout",
          "output_type": "stream",
          "text": [
            "1103\n",
            "0\n"
          ]
        }
      ],
      "source": [
        "print(df.duplicated().sum())\n",
        "df=df.drop_duplicates()\n",
        "print(df.duplicated().sum())"
      ]
    },
    {
      "cell_type": "markdown",
      "metadata": {
        "id": "MrTn4z5qmafL"
      },
      "source": [
        "## Handling numeric and non-numeric data"
      ]
    },
    {
      "cell_type": "code",
      "execution_count": 152,
      "metadata": {
        "colab": {
          "base_uri": "https://localhost:8080/"
        },
        "id": "LygBoLYVmafL",
        "outputId": "2bd35a96-2fae-48b0-e3d7-14efd1501157"
      },
      "outputs": [
        {
          "data": {
            "text/plain": [
              "Make                                 object\n",
              "Model                                object\n",
              "Vehicle Class                        object\n",
              "Engine Size(L)                      float64\n",
              "Cylinders                             int64\n",
              "Transmission                         object\n",
              "Fuel Type                            object\n",
              "Fuel Consumption City (L/100 km)    float64\n",
              "Fuel Consumption Hwy (L/100 km)     float64\n",
              "Fuel Consumption Comb (L/100 km)    float64\n",
              "Fuel Consumption Comb (mpg)           int64\n",
              "CO2 Emissions(g/km)                   int64\n",
              "dtype: object"
            ]
          },
          "execution_count": 152,
          "metadata": {},
          "output_type": "execute_result"
        }
      ],
      "source": [
        "df.dtypes"
      ]
    },
    {
      "cell_type": "code",
      "execution_count": 153,
      "metadata": {
        "colab": {
          "base_uri": "https://localhost:8080/"
        },
        "id": "nt2S6kqGmafL",
        "outputId": "8ae20796-6d00-4a9f-a339-1f523161b372"
      },
      "outputs": [
        {
          "name": "stdout",
          "output_type": "stream",
          "text": [
            "42\n",
            "2053\n",
            "16\n",
            "27\n",
            "5\n"
          ]
        }
      ],
      "source": [
        "print(df[\"Make\"].nunique())\n",
        "print(df[\"Model\"].nunique())\n",
        "print(df[\"Vehicle Class\"].nunique())\n",
        "print(df[\"Transmission\"].nunique())\n",
        "print(df[\"Fuel Type\"].nunique())"
      ]
    },
    {
      "cell_type": "code",
      "execution_count": 154,
      "metadata": {
        "id": "qG4uDSk2mafM"
      },
      "outputs": [],
      "source": [
        "df=df.drop(['Model'], axis=1)"
      ]
    },
    {
      "cell_type": "code",
      "execution_count": 155,
      "metadata": {
        "colab": {
          "base_uri": "https://localhost:8080/",
          "height": 352
        },
        "id": "FUFnEgfhmafM",
        "outputId": "720b3edf-2eb6-4c16-cbc1-5df36a132c14"
      },
      "outputs": [
        {
          "data": {
            "text/html": [
              "<div>\n",
              "<style scoped>\n",
              "    .dataframe tbody tr th:only-of-type {\n",
              "        vertical-align: middle;\n",
              "    }\n",
              "\n",
              "    .dataframe tbody tr th {\n",
              "        vertical-align: top;\n",
              "    }\n",
              "\n",
              "    .dataframe thead th {\n",
              "        text-align: right;\n",
              "    }\n",
              "</style>\n",
              "<table border=\"1\" class=\"dataframe\">\n",
              "  <thead>\n",
              "    <tr style=\"text-align: right;\">\n",
              "      <th></th>\n",
              "      <th>Engine Size(L)</th>\n",
              "      <th>Cylinders</th>\n",
              "      <th>Fuel Consumption City (L/100 km)</th>\n",
              "      <th>Fuel Consumption Hwy (L/100 km)</th>\n",
              "      <th>Fuel Consumption Comb (L/100 km)</th>\n",
              "      <th>Fuel Consumption Comb (mpg)</th>\n",
              "      <th>CO2 Emissions(g/km)</th>\n",
              "      <th>Make_ACURA</th>\n",
              "      <th>Make_ALFA ROMEO</th>\n",
              "      <th>Make_ASTON MARTIN</th>\n",
              "      <th>...</th>\n",
              "      <th>Transmission_AV7</th>\n",
              "      <th>Transmission_AV8</th>\n",
              "      <th>Transmission_M5</th>\n",
              "      <th>Transmission_M6</th>\n",
              "      <th>Transmission_M7</th>\n",
              "      <th>Fuel Type_D</th>\n",
              "      <th>Fuel Type_E</th>\n",
              "      <th>Fuel Type_N</th>\n",
              "      <th>Fuel Type_X</th>\n",
              "      <th>Fuel Type_Z</th>\n",
              "    </tr>\n",
              "  </thead>\n",
              "  <tbody>\n",
              "    <tr>\n",
              "      <th>0</th>\n",
              "      <td>2.0</td>\n",
              "      <td>4</td>\n",
              "      <td>9.9</td>\n",
              "      <td>6.7</td>\n",
              "      <td>8.5</td>\n",
              "      <td>33</td>\n",
              "      <td>196</td>\n",
              "      <td>1</td>\n",
              "      <td>0</td>\n",
              "      <td>0</td>\n",
              "      <td>...</td>\n",
              "      <td>0</td>\n",
              "      <td>0</td>\n",
              "      <td>0</td>\n",
              "      <td>0</td>\n",
              "      <td>0</td>\n",
              "      <td>0</td>\n",
              "      <td>0</td>\n",
              "      <td>0</td>\n",
              "      <td>0</td>\n",
              "      <td>1</td>\n",
              "    </tr>\n",
              "    <tr>\n",
              "      <th>1</th>\n",
              "      <td>2.4</td>\n",
              "      <td>4</td>\n",
              "      <td>11.2</td>\n",
              "      <td>7.7</td>\n",
              "      <td>9.6</td>\n",
              "      <td>29</td>\n",
              "      <td>221</td>\n",
              "      <td>1</td>\n",
              "      <td>0</td>\n",
              "      <td>0</td>\n",
              "      <td>...</td>\n",
              "      <td>0</td>\n",
              "      <td>0</td>\n",
              "      <td>0</td>\n",
              "      <td>1</td>\n",
              "      <td>0</td>\n",
              "      <td>0</td>\n",
              "      <td>0</td>\n",
              "      <td>0</td>\n",
              "      <td>0</td>\n",
              "      <td>1</td>\n",
              "    </tr>\n",
              "    <tr>\n",
              "      <th>2</th>\n",
              "      <td>1.5</td>\n",
              "      <td>4</td>\n",
              "      <td>6.0</td>\n",
              "      <td>5.8</td>\n",
              "      <td>5.9</td>\n",
              "      <td>48</td>\n",
              "      <td>136</td>\n",
              "      <td>1</td>\n",
              "      <td>0</td>\n",
              "      <td>0</td>\n",
              "      <td>...</td>\n",
              "      <td>1</td>\n",
              "      <td>0</td>\n",
              "      <td>0</td>\n",
              "      <td>0</td>\n",
              "      <td>0</td>\n",
              "      <td>0</td>\n",
              "      <td>0</td>\n",
              "      <td>0</td>\n",
              "      <td>0</td>\n",
              "      <td>1</td>\n",
              "    </tr>\n",
              "    <tr>\n",
              "      <th>3</th>\n",
              "      <td>3.5</td>\n",
              "      <td>6</td>\n",
              "      <td>12.7</td>\n",
              "      <td>9.1</td>\n",
              "      <td>11.1</td>\n",
              "      <td>25</td>\n",
              "      <td>255</td>\n",
              "      <td>1</td>\n",
              "      <td>0</td>\n",
              "      <td>0</td>\n",
              "      <td>...</td>\n",
              "      <td>0</td>\n",
              "      <td>0</td>\n",
              "      <td>0</td>\n",
              "      <td>0</td>\n",
              "      <td>0</td>\n",
              "      <td>0</td>\n",
              "      <td>0</td>\n",
              "      <td>0</td>\n",
              "      <td>0</td>\n",
              "      <td>1</td>\n",
              "    </tr>\n",
              "    <tr>\n",
              "      <th>4</th>\n",
              "      <td>3.5</td>\n",
              "      <td>6</td>\n",
              "      <td>12.1</td>\n",
              "      <td>8.7</td>\n",
              "      <td>10.6</td>\n",
              "      <td>27</td>\n",
              "      <td>244</td>\n",
              "      <td>1</td>\n",
              "      <td>0</td>\n",
              "      <td>0</td>\n",
              "      <td>...</td>\n",
              "      <td>0</td>\n",
              "      <td>0</td>\n",
              "      <td>0</td>\n",
              "      <td>0</td>\n",
              "      <td>0</td>\n",
              "      <td>0</td>\n",
              "      <td>0</td>\n",
              "      <td>0</td>\n",
              "      <td>0</td>\n",
              "      <td>1</td>\n",
              "    </tr>\n",
              "  </tbody>\n",
              "</table>\n",
              "<p>5 rows × 97 columns</p>\n",
              "</div>"
            ],
            "text/plain": [
              "   Engine Size(L)  Cylinders  Fuel Consumption City (L/100 km)  \\\n",
              "0             2.0          4                               9.9   \n",
              "1             2.4          4                              11.2   \n",
              "2             1.5          4                               6.0   \n",
              "3             3.5          6                              12.7   \n",
              "4             3.5          6                              12.1   \n",
              "\n",
              "   Fuel Consumption Hwy (L/100 km)  Fuel Consumption Comb (L/100 km)  \\\n",
              "0                              6.7                               8.5   \n",
              "1                              7.7                               9.6   \n",
              "2                              5.8                               5.9   \n",
              "3                              9.1                              11.1   \n",
              "4                              8.7                              10.6   \n",
              "\n",
              "   Fuel Consumption Comb (mpg)  CO2 Emissions(g/km)  Make_ACURA  \\\n",
              "0                           33                  196           1   \n",
              "1                           29                  221           1   \n",
              "2                           48                  136           1   \n",
              "3                           25                  255           1   \n",
              "4                           27                  244           1   \n",
              "\n",
              "   Make_ALFA ROMEO  Make_ASTON MARTIN  ...  Transmission_AV7  \\\n",
              "0                0                  0  ...                 0   \n",
              "1                0                  0  ...                 0   \n",
              "2                0                  0  ...                 1   \n",
              "3                0                  0  ...                 0   \n",
              "4                0                  0  ...                 0   \n",
              "\n",
              "   Transmission_AV8  Transmission_M5  Transmission_M6  Transmission_M7  \\\n",
              "0                 0                0                0                0   \n",
              "1                 0                0                1                0   \n",
              "2                 0                0                0                0   \n",
              "3                 0                0                0                0   \n",
              "4                 0                0                0                0   \n",
              "\n",
              "   Fuel Type_D  Fuel Type_E  Fuel Type_N  Fuel Type_X  Fuel Type_Z  \n",
              "0            0            0            0            0            1  \n",
              "1            0            0            0            0            1  \n",
              "2            0            0            0            0            1  \n",
              "3            0            0            0            0            1  \n",
              "4            0            0            0            0            1  \n",
              "\n",
              "[5 rows x 97 columns]"
            ]
          },
          "execution_count": 155,
          "metadata": {},
          "output_type": "execute_result"
        }
      ],
      "source": [
        "columns_To_1HotEncode=[\"Make\",\"Vehicle Class\",\"Transmission\",\"Fuel Type\"]\n",
        "df = pd.get_dummies(df, columns=columns_To_1HotEncode)\n",
        "df.head()"
      ]
    },
    {
      "cell_type": "markdown",
      "metadata": {
        "id": "CLnpbwbDmafM"
      },
      "source": [
        "## Standardizing all numeric coulumns "
      ]
    },
    {
      "cell_type": "code",
      "execution_count": 156,
      "metadata": {
        "id": "m2ZjK_TwmafM"
      },
      "outputs": [],
      "source": [
        "columns_to_standerdize=[\"Engine Size(L)\",\"Cylinders\",\"Fuel Consumption City (L/100 km)\",\"Fuel Consumption Hwy (L/100 km)\",\"Fuel Consumption Comb (L/100 km)\",\"Fuel Consumption Comb (mpg)\",\"CO2 Emissions(g/km)\"]\n",
        "for column in columns_to_standerdize:\n",
        "    df[column] = (df[column]-df[column].mean()) / df[column].std()"
      ]
    },
    {
      "cell_type": "markdown",
      "metadata": {
        "id": "1sbF0AtQmafM"
      },
      "source": [
        "## Spliting the data for testing and training purpose"
      ]
    },
    {
      "cell_type": "code",
      "execution_count": 157,
      "metadata": {
        "id": "kBjxtrJimafM"
      },
      "outputs": [],
      "source": [
        "def split_data(X,Y):\n",
        "    np.random.seed(0)\n",
        "    mask = np.random.rand(X.shape[0])<=0.80\n",
        "    X_train = X[mask]\n",
        "    X_test =  X[~mask]\n",
        "    Y_train = Y[mask]\n",
        "    Y_test = Y[~mask]\n",
        "\n",
        "    return X_train,X_test,Y_train,Y_test"
      ]
    },
    {
      "cell_type": "markdown",
      "metadata": {
        "id": "7k4JFwpQmafN"
      },
      "source": [
        "# **Linear Regression**"
      ]
    },
    {
      "cell_type": "code",
      "execution_count": 169,
      "metadata": {
        "id": "8Akfo3DxmafN"
      },
      "outputs": [],
      "source": [
        "def computeMSE(Y,X,weights):\n",
        "    Y_pred = X@ weights\n",
        "    MSE = 0\n",
        "    for i in range(Y_pred.shape[0]):\n",
        "        MSE += (Y[i] - Y_pred[i])**2\n",
        "    MSE/= Y_pred.shape[0]\n",
        "    return MSE\n",
        "    \n",
        "def computeMAE(Y,X,weights):\n",
        "    Y_pred = X@ weights\n",
        "    MAE = 0\n",
        "    for i in range(Y_pred.shape[0]):\n",
        "        MAE += abs(Y[i] - Y_pred[i])\n",
        "    MAE/= Y_pred.shape[0]\n",
        "    return MAE    "
      ]
    },
    {
      "cell_type": "markdown",
      "metadata": {},
      "source": [
        "## **Multivariate**"
      ]
    },
    {
      "cell_type": "code",
      "execution_count": 168,
      "metadata": {
        "id": "OqYluleamafN"
      },
      "outputs": [],
      "source": [
        "# Making the variables ready\n",
        "X = df.iloc[:,:]\n",
        "X=X.drop([\"CO2 Emissions(g/km)\"],axis=1)\n",
        "X[\"Constant\"]=1\n",
        "\n",
        "Y=df.iloc[:,6]\n",
        "\n",
        "X_train,X_test,Y_train,Y_test=split_data(X,Y)\n",
        "\n",
        "Y_train.reset_index(drop=True,inplace=True)\n",
        "Y_test.reset_index(drop=True,inplace=True)\n",
        "X_test.reset_index(drop=True,inplace=True)\n",
        "X_train.reset_index(drop=True,inplace=True)"
      ]
    },
    {
      "cell_type": "markdown",
      "metadata": {
        "id": "rJZmRgUemafN"
      },
      "source": [
        "### *Closed Form*"
      ]
    },
    {
      "cell_type": "code",
      "execution_count": 170,
      "metadata": {
        "id": "x_HQFF-hmafN"
      },
      "outputs": [],
      "source": [
        "from numpy.linalg import pinv\n",
        "def closed_form(X,Y):\n",
        "    weights = pinv(X)@Y\n",
        "    return weights\n"
      ]
    },
    {
      "cell_type": "code",
      "execution_count": 171,
      "metadata": {
        "colab": {
          "base_uri": "https://localhost:8080/"
        },
        "id": "rw2eZPiwmafN",
        "outputId": "6af66e6a-91d0-4aed-8060-0d39a3ef8073"
      },
      "outputs": [
        {
          "name": "stdout",
          "output_type": "stream",
          "text": [
            "Mean Square Error:  0.008704893307890942\n",
            "Mean Absolute Error:  0.05375495049165657\n"
          ]
        }
      ],
      "source": [
        "weights=closed_form(X_train,Y_train) #learning algorithm for training model\n",
        "MSE=computeMSE(Y_test,X_test,weights) \n",
        "MAE=computeMAE(Y_test,X_test,weights) \n",
        "print(\"Mean Square Error: \", MSE)\n",
        "print(\"Mean Absolute Error: \", MAE)\n"
      ]
    },
    {
      "cell_type": "markdown",
      "metadata": {
        "id": "VYDMx9gXmafO"
      },
      "source": [
        "### *Gradient Descent*"
      ]
    },
    {
      "cell_type": "code",
      "execution_count": 172,
      "metadata": {
        "colab": {
          "base_uri": "https://localhost:8080/",
          "height": 330
        },
        "id": "CaV6b3jkmafO",
        "outputId": "0b98113d-4a63-45aa-cd13-2a932bc7bc23"
      },
      "outputs": [
        {
          "name": "stdout",
          "output_type": "stream",
          "text": [
            "Mean Square Error:  0.017250752725954284\n",
            "Mean Absolute Error:  0.09414584710911104\n"
          ]
        },
        {
          "data": {
            "image/png": "[encoded data removed]",
            "text/plain": [
              "<Figure size 432x288 with 1 Axes>"
            ]
          },
          "metadata": {
            "needs_background": "light"
          },
          "output_type": "display_data"
        }
      ],
      "source": [
        "costs=[]\n",
        "iterations=[]\n",
        "\n",
        "learning_rate=.00001\n",
        "itrns=1000\n",
        "weights=np.ones((X_train.shape[1]))\n",
        "for i in range(itrns):\n",
        "    weights=weights-learning_rate*(X_train.T@(X_train@weights-Y_train))\n",
        "    iterations.append(i+1)\n",
        "    cost=computeMSE(Y_test,X_test,weights)\n",
        "    costs.append(cost)\n",
        "plt.plot(np.arange(1,itrns),costs[1:], color = 'red')\n",
        "plt.title('Cost function')\n",
        "plt.xlabel('Number of iterations')\n",
        "plt.ylabel('Cost')\n",
        "MSE=computeMSE(Y_test,X_test,weights) \n",
        "MAE=computeMAE(Y_test,X_test,weights) \n",
        "print(\"Mean Square Error: \", MSE)\n",
        "print(\"Mean Absolute Error: \", MAE)"
      ]
    },
    {
      "cell_type": "markdown",
      "metadata": {
        "id": "OY87DBSlmafP"
      },
      "source": [
        "## **Univariate**"
      ]
    },
    {
      "cell_type": "code",
      "execution_count": 173,
      "metadata": {
        "colab": {
          "base_uri": "https://localhost:8080/"
        },
        "id": "3uvGXy33mafP",
        "outputId": "ff0199c0-feb7-42bb-dd22-c9e70d1358e6"
      },
      "outputs": [
        {
          "name": "stdout",
          "output_type": "stream",
          "text": [
            "(5039, 2)\n",
            "(1243, 2)\n",
            "(5039,)\n",
            "(1243,)\n"
          ]
        }
      ],
      "source": [
        "# Making the variables ready\n",
        "# X = df[\"Fuel Consumption City (L/100 km)\"]\n",
        "X = np.ones((len(df), 2))\n",
        "X[:,1] = df.iloc[:,2]\n",
        "X=pd.DataFrame(data=X)\n",
        "\n",
        "Y=df.iloc[:,6]\n",
        "\n",
        "X_train,X_test,Y_train,Y_test=split_data(X,Y)\n",
        "\n",
        "Y_train.reset_index(drop=True,inplace=True)\n",
        "Y_test.reset_index(drop=True,inplace=True)\n",
        "X_test.reset_index(drop=True,inplace=True)\n",
        "X_train.reset_index(drop=True,inplace=True)\n",
        "\n",
        "print(X_train.shape)\n",
        "print(X_test.shape)\n",
        "print(Y_train.shape)\n",
        "print(Y_test.shape)"
      ]
    },
    {
      "cell_type": "markdown",
      "metadata": {
        "id": "O-gt5UDzmafP"
      },
      "source": [
        "### *Closed Form*"
      ]
    },
    {
      "cell_type": "code",
      "execution_count": 174,
      "metadata": {
        "colab": {
          "base_uri": "https://localhost:8080/"
        },
        "id": "GeVelO2wmafP",
        "outputId": "f39aa6a5-c030-46a5-e86a-f5a25108f41f"
      },
      "outputs": [
        {
          "name": "stdout",
          "output_type": "stream",
          "text": [
            "(2,)\n"
          ]
        }
      ],
      "source": [
        "from numpy.linalg import inv\n",
        "weights = inv(X_train.T@X_train)@(X_train.T@Y_train)"
      ]
    },
    {
      "cell_type": "code",
      "execution_count": 175,
      "metadata": {
        "colab": {
          "base_uri": "https://localhost:8080/"
        },
        "id": "_CVcGqKUmafP",
        "outputId": "51725de4-1845-4211-8e4c-ec9a59a24f6c"
      },
      "outputs": [
        {
          "name": "stdout",
          "output_type": "stream",
          "text": [
            "Mean Square Error:  0.17396645584803336\n",
            "Mean Absolute Error:  0.25179601957712566\n"
          ]
        }
      ],
      "source": [
        "MSE=computeMSE(Y_test,X_test,weights) \n",
        "MAE=computeMAE(Y_test,X_test,weights) \n",
        "print(\"Mean Square Error: \", MSE)\n",
        "print(\"Mean Absolute Error: \", MAE)"
      ]
    },
    {
      "cell_type": "markdown",
      "metadata": {
        "id": "y0CPvP4fmafP"
      },
      "source": [
        "### *Gradient Descent*"
      ]
    },
    {
      "cell_type": "code",
      "execution_count": 176,
      "metadata": {
        "colab": {
          "base_uri": "https://localhost:8080/",
          "height": 330
        },
        "id": "r8nE6mJsmafQ",
        "outputId": "232445e3-5401-4ff3-d6f3-4b480a12855b"
      },
      "outputs": [
        {
          "name": "stdout",
          "output_type": "stream",
          "text": [
            "Mean Square Error:  0.17396645584803325\n",
            "Mean Absolute Error:  0.2517960195771251\n"
          ]
        },
        {
          "data": {
            "image/png": "[encoded data removed]",
            "text/plain": [
              "<Figure size 432x288 with 1 Axes>"
            ]
          },
          "metadata": {
            "needs_background": "light"
          },
          "output_type": "display_data"
        }
      ],
      "source": [
        "costs=[]\n",
        "iterations=[]\n",
        "\n",
        "learning_rate=.00001\n",
        "itrns=1000\n",
        "weights=np.ones((X_train.shape[1]))\n",
        "for i in range(itrns):\n",
        "    weights=weights-learning_rate*(X_train.T@(X_train@weights-Y_train))\n",
        "    iterations.append(i+1)\n",
        "    cost=computeMSE(Y_test,X_test,weights)\n",
        "    costs.append(cost)\n",
        "plt.plot(np.arange(1,itrns),costs[1:], color = 'red')\n",
        "plt.title('Cost function')\n",
        "plt.xlabel('Number of iterations')\n",
        "plt.ylabel('Cost')\n",
        "MSE=computeMSE(Y_test,X_test,weights) \n",
        "MAE=computeMAE(Y_test,X_test,weights) \n",
        "print(\"Mean Square Error: \", MSE)\n",
        "print(\"Mean Absolute Error: \", MAE)"
      ]
    }
  ],
  "metadata": {
    "colab": {
      "provenance": []
    },
    "kernelspec": {
      "display_name": "Python 3.10.4 64-bit",
      "language": "python",
      "name": "python3"
    },
    "language_info": {
      "codemirror_mode": {
        "name": "ipython",
        "version": 3
      },
      "file_extension": ".py",
      "mimetype": "text/x-python",
      "name": "python",
      "nbconvert_exporter": "python",
      "pygments_lexer": "ipython3",
      "version": "3.10.4"
    },
    "orig_nbformat": 4,
    "vscode": {
      "interpreter": {
        "hash": "369f2c481f4da34e4445cda3fffd2e751bd1c4d706f27375911949ba6bb62e1c"
      }
    }
  },
  "nbformat": 4,
  "nbformat_minor": 0
}
